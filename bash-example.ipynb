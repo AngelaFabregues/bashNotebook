{
 "cells": [
  {
   "cell_type": "markdown",
   "id": "748b27a5-151c-4e27-bc35-14ba97438fb1",
   "metadata": {},
   "source": [
    "# Bash example\n",
    "Path of working directory."
   ]
  },
  {
   "cell_type": "code",
   "execution_count": 1,
   "id": "bfb494b9-4545-4037-aece-d7d4a256ddb2",
   "metadata": {},
   "outputs": [
    {
     "name": "stdout",
     "output_type": "stream",
     "text": [
      "/Users/angelafabregues/Projects/bashNotebook\n"
     ]
    }
   ],
   "source": [
    "pwd"
   ]
  },
  {
   "cell_type": "markdown",
   "id": "d50575dc-45db-42ba-b405-c0c12a80ebff",
   "metadata": {},
   "source": [
    "Curl the raw README.md file from this project in github"
   ]
  },
  {
   "cell_type": "code",
   "execution_count": 3,
   "id": "5e2c661d-c254-4e53-a5bd-8e44a8ae1c75",
   "metadata": {},
   "outputs": [
    {
     "name": "stdout",
     "output_type": "stream",
     "text": [
      "# bashNotebook\n",
      "Example of Jupyter Notebook with Bash kernel use.\n"
     ]
    }
   ],
   "source": [
    "curl https://raw.githubusercontent.com/AngelaFabregues/bashNotebook/main/README.md"
   ]
  },
  {
   "cell_type": "code",
   "execution_count": 4,
   "id": "0b47ea8b-fe59-4f75-846d-738c5f885de7",
   "metadata": {},
   "outputs": [
    {
     "name": "stdout",
     "output_type": "stream",
     "text": [
      "\u001b[1;39m{\n",
      "  \u001b[0m\u001b[1;34m\"a\"\u001b[0m\u001b[1;39m: \u001b[0m\u001b[0;39m3\u001b[0m\u001b[1;39m,\n",
      "  \u001b[0m\u001b[1;34m\"c\"\u001b[0m\u001b[1;39m: \u001b[0m\u001b[1;39m{\n",
      "    \u001b[0m\u001b[1;34m\"d\"\u001b[0m\u001b[1;39m: \u001b[0m\u001b[0;39m234590\u001b[0m\u001b[1;39m,\n",
      "    \u001b[0m\u001b[1;34m\"e\"\u001b[0m\u001b[1;39m: \u001b[0m\u001b[0;32m\"stereotype\"\u001b[0m\u001b[1;39m\n",
      "  \u001b[1;39m}\u001b[0m\u001b[1;39m\n",
      "\u001b[1;39m}\u001b[0m\n"
     ]
    }
   ],
   "source": [
    "echo '{\n",
    "  \"a\": 3,\n",
    "  \"c\": {\n",
    "  \"d\": 234590,\n",
    "  \"e\": \"stereotype\"\n",
    "}\n",
    "}' | jq ."
   ]
  },
  {
   "cell_type": "code",
   "execution_count": 5,
   "id": "59fe0b11-4e57-422c-afcd-91da895efddc",
   "metadata": {},
   "outputs": [
    {
     "name": "stdout",
     "output_type": "stream",
     "text": [
      "\u001b[1;39m{\u001b[0m\u001b[1;34m\"a\"\u001b[0m\u001b[1;39m:\u001b[0m\u001b[0;39m3\u001b[0m\u001b[1;39m,\u001b[0m\u001b[1;34m\"c\"\u001b[0m\u001b[1;39m:\u001b[0m\u001b[1;39m{\u001b[0m\u001b[1;34m\"d\"\u001b[0m\u001b[1;39m:\u001b[0m\u001b[0;39m234590\u001b[0m\u001b[1;39m,\u001b[0m\u001b[1;34m\"e\"\u001b[0m\u001b[1;39m:\u001b[0m\u001b[0;32m\"stereotype\"\u001b[0m\u001b[1;39m\u001b[1;39m}\u001b[0m\u001b[1;39m\u001b[1;39m}\u001b[0m\n"
     ]
    }
   ],
   "source": [
    "echo '{\n",
    "  \"a\": 3,\n",
    "  \"c\": {\n",
    "  \"d\": 234590,\n",
    "  \"e\": \"stereotype\"\n",
    "}\n",
    "}' | jq -c ."
   ]
  },
  {
   "cell_type": "code",
   "execution_count": null,
   "id": "f81c93b3-c304-4f65-84cd-0c233b08346a",
   "metadata": {},
   "outputs": [],
   "source": []
  }
 ],
 "metadata": {
  "kernelspec": {
   "display_name": "Bash",
   "language": "bash",
   "name": "bash"
  },
  "language_info": {
   "codemirror_mode": "shell",
   "file_extension": ".sh",
   "mimetype": "text/x-sh",
   "name": "bash"
  }
 },
 "nbformat": 4,
 "nbformat_minor": 5
}
